{
 "cells": [
  {
   "cell_type": "markdown",
   "id": "e1dd0090",
   "metadata": {},
   "source": [
    "# Using Papermill to Register Jupyter Notebook Model in Dojo\n",
    "\n",
    "The first step to run a model in a jupyter noteook from the command line with Papermill is to determine how you are setting all your model parameters. \n",
    "\n",
    "The options are mainly, from config/parameter files that are read in or as a flag. \n",
    "\n",
    "If you model reads the parameters in from a config file you don't need to do anything with the parameters. \n",
    "\n",
    "If they are passed to your model as a flag then you will need to tag those in the notebook. To do this you need to tag the cell in your notebook where you define your parameters and have them set to appropriate default values.\n"
   ]
  },
  {
   "cell_type": "markdown",
   "id": "df922203",
   "metadata": {},
   "source": [
    "### If you are using a flag to set a parameter please continue ... "
   ]
  },
  {
   "cell_type": "markdown",
   "id": "61f6c55b",
   "metadata": {},
   "source": [
    "## Jupyter Notebook\n",
    "Naviagate to View/Cell Toolbar/Tags to add the ability to add a tag to a cell. \n",
    "\n"
   ]
  },
  {
   "cell_type": "markdown",
   "id": "65d3343b",
   "metadata": {},
   "source": [
    "## If using JupyterLab v3 or above:\n",
    "\n",
    "Select the cell to parameterize\n",
    "\n",
    "Click the property inspector in the right sidebar (double gear icon)\n",
    "\n",
    "Type “parameters” in the “Add Tag” box and hit “Enter”."
   ]
  },
  {
   "cell_type": "markdown",
   "id": "416cd976",
   "metadata": {},
   "source": [
    "## JupyterLab 2.0 - 2.2.x\n",
    "If using the JupyterLab interface\n",
    "\n",
    "Select the cell to parameterize\n",
    "\n",
    "Click the property inspector on the left side (double gear icon)\n",
    "\n",
    "Type “parameters” in the “Add Tag” box and hit “Enter”."
   ]
  },
  {
   "cell_type": "markdown",
   "id": "cc70a218",
   "metadata": {},
   "source": [
    "## Dummy example\n",
    "In this dummy model parameters are read in from the two config files, fakeDataType.json and parameters.json.However, one parameter *temp is set via a command line --flag. You can see where in the code the parameters are read in below. \n",
    "\n",
    "```\n",
    "params = open('configFiles/parameters.json').read()\n",
    "params = json.loads(params)\n",
    "\n",
    "configFileData = open('configFiles/fakeDataType.json').read()\n",
    "configFileData = json.loads(configFileData)\n",
    "```\n",
    "\n",
    "Papermill will run the notebook with whatever values are set for the parameters in the config files, so if you tag these files as parameters with built in command line tools they will be exposed correctly and Papermill will run the model with the updated parameter values every run. "
   ]
  },
  {
   "cell_type": "markdown",
   "id": "81c41ecd",
   "metadata": {},
   "source": [
    "### working with --flag parameters\n",
    "\n",
    "flag parameters are parameters that are set on the command line when running the model. This dummy model has a temp parameter which is a flag parameter. Here is what is needed to set temp to .2 for a model run on a python script, but this doesn't work for a notebook unless we add a parameter tag to a cell with our temp variable. \n",
    "```\n",
    "python main.py --temp .2\n",
    "\n",
    "```\n",
    "\n"
   ]
  },
  {
   "cell_type": "code",
   "execution_count": 1,
   "id": "e0613f92",
   "metadata": {
    "tags": [
     "parameters"
    ]
   },
   "outputs": [],
   "source": [
    "# set temp default to what your models default run should be. \n",
    "temp=.5"
   ]
  },
  {
   "cell_type": "code",
   "execution_count": 2,
   "id": "2f50a065",
   "metadata": {},
   "outputs": [],
   "source": [
    "import click\n",
    "import random\n",
    "import json\n",
    "import time\n",
    "import pandas as pd\n",
    "from faker import Faker\n",
    "from collections import OrderedDict\n",
    "import urllib.request\n",
    "import os\n",
    "import requests\n",
    "if not os.path.exists('output'):\n",
    "    os.mkdir('output')\n",
    "\n",
    "if not os.path.exists('media'):\n",
    "    os.mkdir('media')    "
   ]
  },
  {
   "cell_type": "code",
   "execution_count": 6,
   "id": "042e2be3",
   "metadata": {},
   "outputs": [
    {
     "name": "stdout",
     "output_type": "stream",
     "text": [
      "Beginning to download file from S3...\n",
      "print params\n",
      "color blue\n",
      "0.9\n",
      "temp 0.5\n",
      "done with getting params\n",
      "      latitude    longitude        date     value color_hue\n",
      "0    22.733040  -105.950221  1994-06-04  0.701154   #a2a1e2\n",
      "1    5.2256655  -168.387601  2017-04-26  0.305415   #4c39a0\n",
      "2  -59.5166715   -15.007695  1986-07-20  1.347375   #aee8f9\n",
      "3    4.0917175    -4.288002  2018-07-26  1.121521   #130d84\n",
      "4    55.672092    58.406969  1974-09-11  0.799305   #52d4d8\n",
      "Saved output as /model/output/output_0.9_0.5.csv\n"
     ]
    }
   ],
   "source": [
    "params = open('configFiles/parameters.json').read()\n",
    "params = json.loads(params)\n",
    "\n",
    "configFileData = open('configFiles/fakeDataType.json').read()\n",
    "configFileData = json.loads(configFileData)\n",
    "\n",
    "\n",
    "print('Beginning to download file from S3...')\n",
    "\n",
    "url = 'https://jataware-world-modelers.s3.amazonaws.com/dummy-model/input.csv'\n",
    "urllib.request.urlretrieve(url, 'input.csv')\n",
    "\n",
    "\n",
    "locales = OrderedDict([\n",
    "    ('en-US', 1)\n",
    "])\n",
    "fake = Faker(locales)\n",
    "f = fake['en_US']    \n",
    "data = []\n",
    "\n",
    "perturbation = 1 + (params['rainfall']*temp)\n",
    "getColorHue = configFileData['color_hue']\n",
    "print('print params')\n",
    "print(f'color {getColorHue}')\n",
    "print(params['rainfall'])\n",
    "print(f'temp {temp}')\n",
    "print('done with getting params')\n",
    "for i in range(100):\n",
    "    obj = dict(latitude=f.latitude(),\n",
    "               longitude=f.longitude(),\n",
    "               date=f.date(),\n",
    "               value=random.random()*perturbation,\n",
    "               color_hue=f.color(hue=getColorHue))\n",
    "    data.append(obj)\n",
    "\n",
    "df = pd.DataFrame(data)\n",
    "print(df.head())\n",
    "fname = f\"output_{params['rainfall']}_{temp}\"\n",
    "df.to_csv(f'output/{fname}.csv', index=False)\n",
    "print(f\"Saved output as /model/output/{fname}.csv\")"
   ]
  },
  {
   "cell_type": "code",
   "execution_count": 4,
   "id": "c9791116",
   "metadata": {},
   "outputs": [
    {
     "name": "stderr",
     "output_type": "stream",
     "text": [
      "/home/kyle/.local/lib/python3.8/site-packages/cryptography/hazmat/backends/openssl/x509.py:14: CryptographyDeprecationWarning: This version of cryptography contains a temporary pyOpenSSL fallback path. Upgrade pyOpenSSL now.\n",
      "  warnings.warn(\n"
     ]
    },
    {
     "name": "stdout",
     "output_type": "stream",
     "text": [
      "Wrote media: lime-cat.jpg\n",
      "Wrote media: 1WWMDwIQ_400x400.jpg\n"
     ]
    }
   ],
   "source": [
    "def get_media():\n",
    "    image_urls = ['https://i.kym-cdn.com/entries/icons/facebook/000/000/774/lime-cat.jpg',\n",
    "                  'https://pbs.twimg.com/profile_images/1356088845821857795/1WWMDwIQ_400x400.jpg']\n",
    "    for url in image_urls:\n",
    "        filename = url.split('/')[-1]\n",
    "        img_data = requests.get(url).content\n",
    "        with open(f'media/{filename}', 'wb') as handler:\n",
    "            handler.write(img_data)\n",
    "        print(f\"Wrote media: {filename}\")\n",
    "    return\n",
    "get_media()"
   ]
  },
  {
   "cell_type": "code",
   "execution_count": null,
   "id": "3dac2a9a",
   "metadata": {},
   "outputs": [],
   "source": []
  }
 ],
 "metadata": {
  "kernelspec": {
   "display_name": "Python 3",
   "language": "python",
   "name": "python3"
  },
  "language_info": {
   "codemirror_mode": {
    "name": "ipython",
    "version": 3
   },
   "file_extension": ".py",
   "mimetype": "text/x-python",
   "name": "python",
   "nbconvert_exporter": "python",
   "pygments_lexer": "ipython3",
   "version": "3.8.2"
  }
 },
 "nbformat": 4,
 "nbformat_minor": 5
}
